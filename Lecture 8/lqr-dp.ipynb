{
 "cells": [
  {
   "cell_type": "code",
   "execution_count": 12,
   "metadata": {},
   "outputs": [],
   "source": [
    "using LinearAlgebra\n",
    "using PyPlot\n",
    "using SparseArrays\n",
    "using ControlSystems\n",
    "using ForwardDiff"
   ]
  },
  {
   "cell_type": "code",
   "execution_count": 13,
   "metadata": {},
   "outputs": [
    {
     "data": {
      "text/plain": [
       "2-element Array{Float64,1}:\n",
       " 0.005000000000000001\n",
       " 0.1"
      ]
     },
     "execution_count": 13,
     "metadata": {},
     "output_type": "execute_result"
    }
   ],
   "source": [
    "# Discrete dynamics\n",
    "h = 0.1   # time step\n",
    "A = [1 h; 0 1]\n",
    "B = [0.5*h*h; h]"
   ]
  },
  {
   "cell_type": "code",
   "execution_count": 14,
   "metadata": {},
   "outputs": [],
   "source": [
    "n = 2     # number of state\n",
    "m = 1     # number of controls\n",
    "Tfinal = 10.0 # final time\n",
    "N = Int(Tfinal/h)+1    # number of time steps\n",
    "thist = Array(range(0,h*(N-1), step=h));"
   ]
  },
  {
   "cell_type": "code",
   "execution_count": 15,
   "metadata": {},
   "outputs": [
    {
     "data": {
      "text/plain": [
       "2-element Array{Float64,1}:\n",
       " 1.0\n",
       " 0.0"
      ]
     },
     "execution_count": 15,
     "metadata": {},
     "output_type": "execute_result"
    }
   ],
   "source": [
    "# Initial conditions\n",
    "x0 = [1.0; 0]"
   ]
  },
  {
   "cell_type": "code",
   "execution_count": 16,
   "metadata": {},
   "outputs": [
    {
     "data": {
      "text/plain": [
       "2×2 Array{Float64,2}:\n",
       " 1.0  0.0\n",
       " 0.0  1.0"
      ]
     },
     "execution_count": 16,
     "metadata": {},
     "output_type": "execute_result"
    }
   ],
   "source": [
    "# Cost weights\n",
    "Q = Array(1.0*I(n))\n",
    "R = Array(0.1*I(m))\n",
    "Qn = Array(1.0*I(n))"
   ]
  },
  {
   "cell_type": "code",
   "execution_count": 17,
   "metadata": {},
   "outputs": [
    {
     "data": {
      "text/plain": [
       "J (generic function with 1 method)"
      ]
     },
     "execution_count": 17,
     "metadata": {},
     "output_type": "execute_result"
    }
   ],
   "source": [
    "#Cost function\n",
    "function J(xhist,uhist)\n",
    "    cost = 0.5*xhist[:,end]'*Qn*xhist[:,end]\n",
    "    for k = 1:(size(xhist,2)-1)\n",
    "        cost = cost + 0.5*xhist[:,k]'*Q*xhist[:,k] + 0.5*(uhist[k]'*R*uhist[k])[1]\n",
    "    end\n",
    "    return cost\n",
    "end"
   ]
  },
  {
   "cell_type": "code",
   "execution_count": 18,
   "metadata": {},
   "outputs": [
    {
     "data": {
      "text/plain": [
       "V (generic function with 1 method)"
      ]
     },
     "execution_count": 18,
     "metadata": {},
     "output_type": "execute_result"
    }
   ],
   "source": [
    "#Cost-to-go Function\n",
    "function Vinf(x)\n",
    "    return 0.5*x'*Pinf*x\n",
    "end\n",
    "\n",
    "function V(k,x)\n",
    "    return 0.5*x'*P[:,:,k]*x\n",
    "end"
   ]
  },
  {
   "cell_type": "code",
   "execution_count": 19,
   "metadata": {},
   "outputs": [],
   "source": [
    "#QP Solution for xhist, uhist\n",
    "# Cost\n",
    "H = blockdiag(sparse(R), kron(I(N-2), blockdiag(sparse(Q),sparse(R))), sparse(Qn));"
   ]
  },
  {
   "cell_type": "code",
   "execution_count": 20,
   "metadata": {},
   "outputs": [],
   "source": [
    "# Constraints\n",
    "C = kron(I(N-1), [B -I(2)])\n",
    "for k = 1:N-2\n",
    "    C[(k*n).+(1:n), (k*(n+m)-n).+(1:n)] .= A\n",
    "end\n",
    "d = [-A*x0; zeros(size(C,1)-n)];"
   ]
  },
  {
   "cell_type": "code",
   "execution_count": 21,
   "metadata": {},
   "outputs": [],
   "source": [
    "# Solve the linear system\n",
    "y = [H C'; C zeros(size(C,1),size(C,1))]\\[zeros(size(H,1)); d]\n",
    "\n",
    "# Get multipliers\n",
    "λhist_qp = reshape(y[(size(H,1)+1):end],n,N-1)\n",
    "\n",
    "# Get state history\n",
    "z = y[1:size(H,1)]   # states and controls [u0,x1,u1,...,xN]\n",
    "Z = reshape(z,n+m,N-1)\n",
    "xhist_qp = Z[m+1:end,:]\n",
    "xhist_qp = [x0 xhist_qp]\n",
    "\n",
    "# Get control history\n",
    "uhist_qp = Z[1,:];"
   ]
  },
  {
   "cell_type": "code",
   "execution_count": 22,
   "metadata": {},
   "outputs": [],
   "source": [
    "#Dynamic Programming Solution for P and K\n",
    "P = zeros(n,n,N)\n",
    "K = zeros(m,n,N-1)\n",
    "\n",
    "P[:,:,N] .= Qn\n",
    "\n",
    "#Backward Riccati recursion\n",
    "for k = (N-1):-1:1\n",
    "    K[:,:,k] .= (R .+ B'*P[:,:,k+1]*B)\\(B'*P[:,:,k+1]*A)\n",
    "    P[:,:,k] .= Q + K[:,:,k]'*R*K[:,:,k] + (A-B*K[:,:,k])'*P[:,:,k+1]*(A-B*K[:,:,k])\n",
    "end\n",
    "\n",
    "#Forward rollout starting at x0\n",
    "xhist = zeros(n,N)\n",
    "xhist[:,1] = x0\n",
    "uhist = zeros(m,N-1)\n",
    "for k = 1:(N-1)\n",
    "    uhist[:,k] .= -K[:,:,k]*xhist[:,k]\n",
    "    xhist[:,k+1] .= A*xhist[:,k] + B*uhist[k]\n",
    "end"
   ]
  },
  {
   "cell_type": "code",
   "execution_count": 23,
   "metadata": {},
   "outputs": [
    {
     "data": {
      "image/png": "[encoded data removed]",
      "text/plain": [
       "Figure(PyObject <Figure size 640x480 with 1 Axes>)"
      ]
     },
     "metadata": {},
     "output_type": "display_data"
    },
    {
     "data": {
      "text/plain": [
       "PyObject <matplotlib.legend.Legend object at 0x7f8aa2ab8700>"
      ]
     },
     "execution_count": 23,
     "metadata": {},
     "output_type": "execute_result"
    }
   ],
   "source": [
    "# Plot x1 vs. x2, u vs. t, x vs. t, etc.\n",
    "times = range(0,h*(N-1), step=h)\n",
    "plot(times,xhist[1,:], label=\"DP position\")\n",
    "plot(times,xhist[2,:], label=\"DP velocity\")\n",
    "plot(times,xhist_qp[1,:], label=\"QP position\")\n",
    "plot(times,xhist_qp[2,:], label=\"QP velocity\")\n",
    "xlabel(\"time\")\n",
    "legend()"
   ]
  },
  {
   "cell_type": "code",
   "execution_count": 24,
   "metadata": {},
   "outputs": [
    {
     "data": {
      "image/png": "[encoded data removed]",
      "text/plain": [
       "Figure(PyObject <Figure size 640x480 with 1 Axes>)"
      ]
     },
     "metadata": {},
     "output_type": "display_data"
    },
    {
     "data": {
      "text/plain": [
       "PyObject <matplotlib.legend.Legend object at 0x7f8aa37fabe0>"
      ]
     },
     "execution_count": 24,
     "metadata": {},
     "output_type": "execute_result"
    }
   ],
   "source": [
    "plot(times[1:end-1], uhist[1,:], label=\"DP control\")\n",
    "plot(times[1:end-1], uhist_qp, label=\"QP control\")\n",
    "xlabel(\"Time\")\n",
    "legend()"
   ]
  },
  {
   "cell_type": "code",
   "execution_count": 25,
   "metadata": {},
   "outputs": [
    {
     "data": {
      "image/png": "[encoded data removed]",
      "text/plain": [
       "Figure(PyObject <Figure size 640x480 with 1 Axes>)"
      ]
     },
     "metadata": {},
     "output_type": "display_data"
    },
    {
     "data": {
      "text/plain": [
       "1-element Array{PyCall.PyObject,1}:\n",
       " PyObject <matplotlib.lines.Line2D object at 0x7f8a86d102b0>"
      ]
     },
     "execution_count": 25,
     "metadata": {},
     "output_type": "execute_result"
    }
   ],
   "source": [
    "plot(P[1,1,:])\n",
    "plot(P[1,2,:])\n",
    "plot(P[2,2,:])"
   ]
  },
  {
   "cell_type": "code",
   "execution_count": 26,
   "metadata": {},
   "outputs": [
    {
     "data": {
      "text/plain": [
       "6.658612208961312"
      ]
     },
     "execution_count": 26,
     "metadata": {},
     "output_type": "execute_result"
    }
   ],
   "source": [
    "J(xhist,uhist)"
   ]
  },
  {
   "cell_type": "code",
   "execution_count": 27,
   "metadata": {},
   "outputs": [
    {
     "data": {
      "text/plain": [
       "6.658612208961312"
      ]
     },
     "execution_count": 27,
     "metadata": {},
     "output_type": "execute_result"
    }
   ],
   "source": [
    "J(xhist_qp,uhist_qp)"
   ]
  },
  {
   "cell_type": "code",
   "execution_count": 28,
   "metadata": {},
   "outputs": [
    {
     "data": {
      "text/plain": [
       "1×2 Array{Float64,2}:\n",
       " -6.72933e-9  -2.28765e-9"
      ]
     },
     "execution_count": 28,
     "metadata": {},
     "output_type": "execute_result"
    }
   ],
   "source": [
    "#Compute infinite-horizon K matrix using ControlSystems.jl\n",
    "Kinf = dlqr(A,B,Q,R[1])\n",
    "#Compare to ours\n",
    "K[:,:,1]-Kinf"
   ]
  },
  {
   "cell_type": "code",
   "execution_count": 29,
   "metadata": {},
   "outputs": [
    {
     "data": {
      "text/plain": [
       "2×2 Array{Float64,2}:\n",
       " -2.32085e-8  -7.88975e-9\n",
       " -7.88976e-9  -2.68214e-9"
      ]
     },
     "execution_count": 29,
     "metadata": {},
     "output_type": "execute_result"
    }
   ],
   "source": [
    "#Compute infinite-horizon P matrix\n",
    "Pinf = dare(A,B,Q,R)\n",
    "#Compare to ours\n",
    "P[:,:,1] - Pinf"
   ]
  },
  {
   "cell_type": "code",
   "execution_count": 30,
   "metadata": {},
   "outputs": [
    {
     "data": {
      "text/plain": [
       "rollout (generic function with 1 method)"
      ]
     },
     "execution_count": 30,
     "metadata": {},
     "output_type": "execute_result"
    }
   ],
   "source": [
    "#Forward rollout starting at xk\n",
    "function rollout(k,x)\n",
    "    xsub = zeros(n,N-k+1)\n",
    "    xsub[:,1] .= x\n",
    "    usub = zeros(m,N-k)\n",
    "    for j = k:(N-1)\n",
    "        usub[:,j-k+1] .= -K[:,:,j]*xsub[:,j-k+1]\n",
    "        xsub[:,j-k+2] .= A*xsub[:,j-k+1] + B*usub[j-k+1]\n",
    "    end\n",
    "    return xsub,usub\n",
    "end"
   ]
  },
  {
   "cell_type": "code",
   "execution_count": 38,
   "metadata": {},
   "outputs": [
    {
     "data": {
      "text/plain": [
       "([0.008565027630146473 0.007701497232424686 … 6.952721258612016e-5 6.689502637287264e-5; -0.0090937170650696 -0.008176890889366142 … -2.741601026646724e-5 -2.5227713998483276e-5], [0.009168261757034585 0.008244198746429749 … 3.913310967971362e-5 2.188296267983964e-5])"
      ]
     },
     "execution_count": 38,
     "metadata": {},
     "output_type": "execute_result"
    }
   ],
   "source": [
    "#Generate a sub-trajectory starting at xk\n",
    "k = 50\n",
    "xsub, usub = rollout(k,xhist[:,k])"
   ]
  },
  {
   "cell_type": "code",
   "execution_count": 39,
   "metadata": {},
   "outputs": [
    {
     "data": {
      "text/plain": [
       "2×52 Array{Float64,2}:\n",
       " 0.0  0.0  0.0  0.0  0.0  0.0  0.0  0.0  …  0.0  0.0  0.0  0.0  0.0  0.0  0.0\n",
       " 0.0  0.0  0.0  0.0  0.0  0.0  0.0  0.0     0.0  0.0  0.0  0.0  0.0  0.0  0.0"
      ]
     },
     "execution_count": 39,
     "metadata": {},
     "output_type": "execute_result"
    }
   ],
   "source": [
    "#Optimal state sub-trajectories are optimal\n",
    "xsub - xhist[:,k:end]"
   ]
  },
  {
   "cell_type": "code",
   "execution_count": 40,
   "metadata": {},
   "outputs": [
    {
     "data": {
      "text/plain": [
       "1×51 Array{Float64,2}:\n",
       " 0.0  0.0  0.0  0.0  0.0  0.0  0.0  0.0  …  0.0  0.0  0.0  0.0  0.0  0.0  0.0"
      ]
     },
     "execution_count": 40,
     "metadata": {},
     "output_type": "execute_result"
    }
   ],
   "source": [
    "#Optimal control sub-trajectories are optimal\n",
    "usub - uhist[:,k:end]"
   ]
  },
  {
   "cell_type": "code",
   "execution_count": 41,
   "metadata": {},
   "outputs": [
    {
     "data": {
      "text/plain": [
       "2-element Array{Float64,1}:\n",
       "  0.08494405503397162\n",
       " -0.014443027451912923"
      ]
     },
     "execution_count": 41,
     "metadata": {},
     "output_type": "execute_result"
    }
   ],
   "source": [
    "#Compare multipliers from QP to Cost-to-go gradient from DP\n",
    "λhist_qp[:,k-1]"
   ]
  },
  {
   "cell_type": "code",
   "execution_count": 42,
   "metadata": {},
   "outputs": [
    {
     "data": {
      "text/plain": [
       "2-element Array{Float64,1}:\n",
       "  0.08494405503397173\n",
       " -0.014443027451912924"
      ]
     },
     "execution_count": 42,
     "metadata": {},
     "output_type": "execute_result"
    }
   ],
   "source": [
    "ForwardDiff.gradient(x->V(k,x),xhist[:,k])"
   ]
  },
  {
   "cell_type": "code",
   "execution_count": 43,
   "metadata": {},
   "outputs": [
    {
     "data": {
      "text/plain": [
       "2-element Array{Float64,1}:\n",
       "  0.08494829522129797\n",
       " -0.01444158603090957"
      ]
     },
     "execution_count": 43,
     "metadata": {},
     "output_type": "execute_result"
    }
   ],
   "source": [
    "#Also compare to infinite horizon\n",
    "ForwardDiff.gradient(x->Vinf(x),xhist[:,k])"
   ]
  },
  {
   "cell_type": "code",
   "execution_count": 45,
   "metadata": {},
   "outputs": [
    {
     "data": {
      "text/plain": [
       "2-element Array{Float64,1}:\n",
       "  0.08495071325879087\n",
       " -0.014440725739652514"
      ]
     },
     "execution_count": 45,
     "metadata": {},
     "output_type": "execute_result"
    }
   ],
   "source": [
    "#Let's try finite diffing the cost w.r.t. the state\n",
    "x1p, u1p = rollout(k,xhist[:,k]+[1e-6; 0])\n",
    "x2p, u2p = rollout(k,xhist[:,k]+[0; 1e-6])\n",
    "λfd = [J(x1p,u1p) - J(xhist[:,k:end],uhist[:,k:end]), J(x2p,u2p) - J(xhist[:,k:end],uhist[:,k:end])]./1e-6"
   ]
  },
  {
   "cell_type": "code",
   "execution_count": null,
   "metadata": {},
   "outputs": [],
   "source": []
  }
 ],
 "metadata": {
  "kernelspec": {
   "display_name": "Julia 1.5.3",
   "language": "julia",
   "name": "julia-1.5"
  },
  "language_info": {
   "file_extension": ".jl",
   "mimetype": "application/julia",
   "name": "julia",
   "version": "1.5.3"
  }
 },
 "nbformat": 4,
 "nbformat_minor": 4
}
