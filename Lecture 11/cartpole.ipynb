{
 "cells": [
  {
   "cell_type": "code",
   "execution_count": 216,
   "metadata": {},
   "outputs": [],
   "source": [
    "using TrajectoryOptimization\n",
    "using RobotDynamics\n",
    "import RobotZoo.Cartpole\n",
    "using StaticArrays, LinearAlgebra"
   ]
  },
  {
   "cell_type": "code",
   "execution_count": 217,
   "metadata": {},
   "outputs": [],
   "source": [
    "model = Cartpole()\n",
    "n,m = size(model);"
   ]
  },
  {
   "cell_type": "code",
   "execution_count": 218,
   "metadata": {},
   "outputs": [
    {
     "data": {
      "text/plain": [
       "0.05"
      ]
     },
     "execution_count": 218,
     "metadata": {},
     "output_type": "execute_result"
    }
   ],
   "source": [
    "N = 101\n",
    "Tf = 5.\n",
    "h = Tf/(N-1)"
   ]
  },
  {
   "cell_type": "code",
   "execution_count": 219,
   "metadata": {},
   "outputs": [],
   "source": [
    "x0 = @SVector zeros(n)\n",
    "xf = @SVector [0, pi, 0, 0];  # i.e. swing up"
   ]
  },
  {
   "cell_type": "code",
   "execution_count": 254,
   "metadata": {},
   "outputs": [],
   "source": [
    "# Set up\n",
    "Q = 1.0*Diagonal(@SVector ones(n))\n",
    "Qf = 100.0*Diagonal(@SVector ones(n))\n",
    "R = 0.1*Diagonal(@SVector ones(m))\n",
    "obj = LQRObjective(Q,R,Qf,xf,N);"
   ]
  },
  {
   "cell_type": "code",
   "execution_count": 288,
   "metadata": {},
   "outputs": [],
   "source": [
    "# Create Empty ConstraintList\n",
    "conSet = ConstraintList(n,m,N)\n",
    "\n",
    "# Control Bounds\n",
    "u_bnd = 3.0\n",
    "bnd = BoundConstraint(n,m, u_min=-u_bnd, u_max=u_bnd)\n",
    "add_constraint!(conSet, bnd, 1:N-1)\n",
    "\n",
    "# Goal Constraint\n",
    "goal = GoalConstraint(xf)\n",
    "add_constraint!(conSet, goal, N)"
   ]
  },
  {
   "cell_type": "code",
   "execution_count": 289,
   "metadata": {},
   "outputs": [],
   "source": [
    "prob = Problem(model, obj, xf, Tf, x0=x0, constraints=conSet);"
   ]
  },
  {
   "cell_type": "code",
   "execution_count": 290,
   "metadata": {},
   "outputs": [],
   "source": [
    "u0 = @SVector fill(0.01,m)\n",
    "U0 = [u0 for k = 1:N-1]\n",
    "initial_controls!(prob, U0)\n",
    "rollout!(prob);"
   ]
  },
  {
   "cell_type": "code",
   "execution_count": 291,
   "metadata": {},
   "outputs": [
    {
     "name": "stdout",
     "output_type": "stream",
     "text": [
      "\u001b[32;1m\n",
      "SOLVE COMPLETED\n",
      "\u001b[0m solved using the \u001b[0m\u001b[36;1mALTRO\u001b[0m Solver,\n",
      " part of the Altro.jl package developed by the REx Lab at Stanford and Carnegie Mellon Universities\n",
      "\u001b[34;1m\n",
      "  Solve Statistics\n",
      "\u001b[0m    Total Iterations: 242\n",
      "\u001b[0m    Solve Time: 75.56025 (ms)\n",
      "\u001b[34;1m\n",
      "  Covergence\n",
      "\u001b[0m    Terminal Cost: 54.734968699655006\n",
      "\u001b[0m    Terminal dJ: \u001b[32m-4.509325245139266\n",
      "\u001b[0m    Terminal gradient: \u001b[32m0.0004880337521692582\n",
      "\u001b[0m    Terminal constraint violation: \u001b[32m4.976240406406873e-7\n",
      "\u001b[0m    Solve Status: \u001b[1m\u001b[32mSOLVE_SUCCEEDED\n",
      "\u001b[0m"
     ]
    }
   ],
   "source": [
    "using Altro\n",
    "opts = SolverOptions(\n",
    "    cost_tolerance_intermediate=1e-2,\n",
    "    penalty_scaling=10.,\n",
    "    penalty_initial=1.0\n",
    ")\n",
    "\n",
    "altro = ALTROSolver(prob, opts)\n",
    "set_options!(altro, show_summary=true)\n",
    "solve!(altro);"
   ]
  },
  {
   "cell_type": "code",
   "execution_count": 292,
   "metadata": {},
   "outputs": [
    {
     "name": "stdout",
     "output_type": "stream",
     "text": [
      "max_violation: 4.976240406406873e-7\n",
      "cost:          54.73498030858044\n",
      "iterations:    242\n"
     ]
    }
   ],
   "source": [
    "println(\"max_violation: \", max_violation(altro))\n",
    "println(\"cost:          \", cost(altro))\n",
    "println(\"iterations:    \", iterations(altro));"
   ]
  },
  {
   "cell_type": "code",
   "execution_count": 293,
   "metadata": {},
   "outputs": [],
   "source": [
    "# Extract the solution\n",
    "X = states(altro);\n",
    "U = controls(altro);"
   ]
  },
  {
   "cell_type": "code",
   "execution_count": 294,
   "metadata": {},
   "outputs": [
    {
     "data": {
      "text/plain": [
       "4×101 Array{Float64,2}:\n",
       "  3.8646e-9     0.00127179   0.0047649  …  -0.00375649  -3.53295e-8\n",
       " -2.51939e-9   -0.00254358  -0.0093846      3.13402      3.14159\n",
       "  2.14952e-9    0.0507882    0.0887925      0.150252     8.08715e-8\n",
       "  6.46365e-10  -0.100744    -0.17118        0.303025    -1.07129e-7"
      ]
     },
     "execution_count": 294,
     "metadata": {},
     "output_type": "execute_result"
    }
   ],
   "source": [
    "hcat(Vector.(X)...)"
   ]
  },
  {
   "cell_type": "code",
   "execution_count": 295,
   "metadata": {},
   "outputs": [
    {
     "name": "stderr",
     "output_type": "stream",
     "text": [
      "┌ Info: MeshCat server started. You can open the visualizer by visiting the following URL in your browser:\n",
      "│ http://127.0.0.1:8721\n",
      "└ @ MeshCat /Users/zac/.julia/packages/MeshCat/GlCMx/src/visualizer.jl:73\n"
     ]
    },
    {
     "data": {
      "text/html": [
       "    <div style=\"height: 500px; width: 100%; overflow-x: auto; overflow-y: hidden; resize: both\">\n",
       "    <iframe src=\"http://127.0.0.1:8721\" style=\"width: 100%; height: 100%; border: none\"></iframe>\n",
       "    </div>\n"
      ],
      "text/plain": [
       "MeshCat.DisplayedVisualizer(MeshCat.CoreVisualizer(MeshCat.SceneTrees.SceneNode(nothing, nothing, Dict{String,Array{UInt8,1}}(), nothing, Dict{String,MeshCat.SceneTrees.SceneNode}()), Set{Any}(), ip\"127.0.0.1\", 8721))"
      ]
     },
     "execution_count": 295,
     "metadata": {},
     "output_type": "execute_result"
    }
   ],
   "source": [
    "using TrajOptPlots\n",
    "using MeshCat\n",
    "using Plots\n",
    "\n",
    "vis = Visualizer()\n",
    "render(vis)"
   ]
  },
  {
   "cell_type": "code",
   "execution_count": 296,
   "metadata": {},
   "outputs": [
    {
     "data": {
      "text/plain": [
       "MeshCat Visualizer with path /meshcat/robot/cart/pole at http://127.0.0.1:8721"
      ]
     },
     "execution_count": 296,
     "metadata": {},
     "output_type": "execute_result"
    }
   ],
   "source": [
    "TrajOptPlots.set_mesh!(vis, model)"
   ]
  },
  {
   "cell_type": "code",
   "execution_count": 297,
   "metadata": {},
   "outputs": [],
   "source": [
    "visualize!(vis, altro);"
   ]
  },
  {
   "cell_type": "code",
   "execution_count": 298,
   "metadata": {},
   "outputs": [
    {
     "data": {
      "image/svg+xml": [
       "<?xml version=\"1.0\" encoding=\"utf-8\"?>\n",
       "<svg xmlns=\"http://www.w3.org/2000/svg\" xmlns:xlink=\"http://www.w3.org/1999/xlink\" width=\"600\" height=\"400\" viewBox=\"0 0 2400 1600\">\n",
       "<defs>\n",
       "  <clipPath id=\"clip520\">\n",
       "    <rect x=\"0\" y=\"0\" width=\"2400\" height=\"1600\"/>\n",
       "  </clipPath>\n",
       "</defs>\n",
       "<path clip-path=\"url(#clip520)\" d=\"\n",
       "M0 1600 L2400 1600 L2400 0 L0 0  Z\n",
       "  \" fill=\"#ffffff\" fill-rule=\"evenodd\" fill-opacity=\"1\"/>\n",
       "<defs>\n",
       "  <clipPath id=\"clip521\">\n",
       "    <rect x=\"480\" y=\"0\" width=\"1681\" height=\"1600\"/>\n",
       "  </clipPath>\n",
       "</defs>\n",
       "<path clip-path=\"url(#clip520)\" d=\"\n",
       "M143.033 1486.45 L2352.76 1486.45 L2352.76 47.2441 L143.033 47.2441  Z\n",
       "  \" fill=\"#ffffff\" fill-rule=\"evenodd\" fill-opacity=\"1\"/>\n",
       "<defs>\n",
       "  <clipPath id=\"clip522\">\n",
       "    <rect x=\"143\" y=\"47\" width=\"2211\" height=\"1440\"/>\n",
       "  </clipPath>\n",
       "</defs>\n",
       "<polyline clip-path=\"url(#clip522)\" style=\"stroke:#000000; stroke-width:2; stroke-opacity:0.1; fill:none\" points=\"\n",
       "  184.516,1486.45 184.516,47.2441 \n",
       "  \"/>\n",
       "<polyline clip-path=\"url(#clip522)\" style=\"stroke:#000000; stroke-width:2; stroke-opacity:0.1; fill:none\" points=\"\n",
       "  710.941,1486.45 710.941,47.2441 \n",
       "  \"/>\n",
       "<polyline clip-path=\"url(#clip522)\" style=\"stroke:#000000; stroke-width:2; stroke-opacity:0.1; fill:none\" points=\"\n",
       "  1237.37,1486.45 1237.37,47.2441 \n",
       "  \"/>\n",
       "<polyline clip-path=\"url(#clip522)\" style=\"stroke:#000000; stroke-width:2; stroke-opacity:0.1; fill:none\" points=\"\n",
       "  1763.79,1486.45 1763.79,47.2441 \n",
       "  \"/>\n",
       "<polyline clip-path=\"url(#clip522)\" style=\"stroke:#000000; stroke-width:2; stroke-opacity:0.1; fill:none\" points=\"\n",
       "  2290.22,1486.45 2290.22,47.2441 \n",
       "  \"/>\n",
       "<polyline clip-path=\"url(#clip520)\" style=\"stroke:#000000; stroke-width:4; stroke-opacity:1; fill:none\" points=\"\n",
       "  143.033,1486.45 2352.76,1486.45 \n",
       "  \"/>\n",
       "<polyline clip-path=\"url(#clip520)\" style=\"stroke:#000000; stroke-width:4; stroke-opacity:1; fill:none\" points=\"\n",
       "  184.516,1486.45 184.516,1469.18 \n",
       "  \"/>\n",
       "<polyline clip-path=\"url(#clip520)\" style=\"stroke:#000000; stroke-width:4; stroke-opacity:1; fill:none\" points=\"\n",
       "  710.941,1486.45 710.941,1469.18 \n",
       "  \"/>\n",
       "<polyline clip-path=\"url(#clip520)\" style=\"stroke:#000000; stroke-width:4; stroke-opacity:1; fill:none\" points=\"\n",
       "  1237.37,1486.45 1237.37,1469.18 \n",
       "  \"/>\n",
       "<polyline clip-path=\"url(#clip520)\" style=\"stroke:#000000; stroke-width:4; stroke-opacity:1; fill:none\" points=\"\n",
       "  1763.79,1486.45 1763.79,1469.18 \n",
       "  \"/>\n",
       "<polyline clip-path=\"url(#clip520)\" style=\"stroke:#000000; stroke-width:4; stroke-opacity:1; fill:none\" points=\"\n",
       "  2290.22,1486.45 2290.22,1469.18 \n",
       "  \"/>\n",
       "<path clip-path=\"url(#clip520)\" d=\"M 0 0 M184.516 1515.64 Q180.905 1515.64 179.076 1519.2 Q177.27 1522.75 177.27 1529.87 Q177.27 1536.98 179.076 1540.55 Q180.905 1544.09 184.516 1544.09 Q188.15 1544.09 189.956 1540.55 Q191.784 1536.98 191.784 1529.87 Q191.784 1522.75 189.956 1519.2 Q188.15 1515.64 184.516 1515.64 M184.516 1511.93 Q190.326 1511.93 193.381 1516.54 Q196.46 1521.12 196.46 1529.87 Q196.46 1538.6 193.381 1543.21 Q190.326 1547.79 184.516 1547.79 Q178.706 1547.79 175.627 1543.21 Q172.571 1538.6 172.571 1529.87 Q172.571 1521.12 175.627 1516.54 Q178.706 1511.93 184.516 1511.93 Z\" fill=\"#000000\" fill-rule=\"evenodd\" fill-opacity=\"1\" /><path clip-path=\"url(#clip520)\" d=\"M 0 0 M692.585 1543.18 L708.904 1543.18 L708.904 1547.12 L686.96 1547.12 L686.96 1543.18 Q689.622 1540.43 694.205 1535.8 Q698.811 1531.15 699.992 1529.81 Q702.237 1527.28 703.117 1525.55 Q704.02 1523.79 704.02 1522.1 Q704.02 1519.34 702.075 1517.61 Q700.154 1515.87 697.052 1515.87 Q694.853 1515.87 692.399 1516.63 Q689.969 1517.4 687.191 1518.95 L687.191 1514.23 Q690.015 1513.09 692.469 1512.51 Q694.923 1511.93 696.96 1511.93 Q702.33 1511.93 705.524 1514.62 Q708.719 1517.31 708.719 1521.8 Q708.719 1523.93 707.909 1525.85 Q707.122 1527.74 705.015 1530.34 Q704.436 1531.01 701.335 1534.23 Q698.233 1537.42 692.585 1543.18 Z\" fill=\"#000000\" fill-rule=\"evenodd\" fill-opacity=\"1\" /><path clip-path=\"url(#clip520)\" d=\"M 0 0 M714.02 1512.56 L732.376 1512.56 L732.376 1516.5 L718.302 1516.5 L718.302 1524.97 Q719.321 1524.62 720.339 1524.46 Q721.358 1524.27 722.376 1524.27 Q728.163 1524.27 731.543 1527.44 Q734.922 1530.62 734.922 1536.03 Q734.922 1541.61 731.45 1544.71 Q727.978 1547.79 721.659 1547.79 Q719.483 1547.79 717.214 1547.42 Q714.969 1547.05 712.561 1546.31 L712.561 1541.61 Q714.645 1542.74 716.867 1543.3 Q719.089 1543.86 721.566 1543.86 Q725.571 1543.86 727.908 1541.75 Q730.246 1539.64 730.246 1536.03 Q730.246 1532.42 727.908 1530.31 Q725.571 1528.21 721.566 1528.21 Q719.691 1528.21 717.816 1528.62 Q715.964 1529.04 714.02 1529.92 L714.02 1512.56 Z\" fill=\"#000000\" fill-rule=\"evenodd\" fill-opacity=\"1\" /><path clip-path=\"url(#clip520)\" d=\"M 0 0 M1214.14 1512.56 L1232.49 1512.56 L1232.49 1516.5 L1218.42 1516.5 L1218.42 1524.97 Q1219.44 1524.62 1220.46 1524.46 Q1221.48 1524.27 1222.49 1524.27 Q1228.28 1524.27 1231.66 1527.44 Q1235.04 1530.62 1235.04 1536.03 Q1235.04 1541.61 1231.57 1544.71 Q1228.1 1547.79 1221.78 1547.79 Q1219.6 1547.79 1217.33 1547.42 Q1215.09 1547.05 1212.68 1546.31 L1212.68 1541.61 Q1214.76 1542.74 1216.98 1543.3 Q1219.21 1543.86 1221.68 1543.86 Q1225.69 1543.86 1228.03 1541.75 Q1230.36 1539.64 1230.36 1536.03 Q1230.36 1532.42 1228.03 1530.31 Q1225.69 1528.21 1221.68 1528.21 Q1219.81 1528.21 1217.93 1528.62 Q1216.08 1529.04 1214.14 1529.92 L1214.14 1512.56 Z\" fill=\"#000000\" fill-rule=\"evenodd\" fill-opacity=\"1\" /><path clip-path=\"url(#clip520)\" d=\"M 0 0 M1250.11 1515.64 Q1246.5 1515.64 1244.67 1519.2 Q1242.86 1522.75 1242.86 1529.87 Q1242.86 1536.98 1244.67 1540.55 Q1246.5 1544.09 1250.11 1544.09 Q1253.74 1544.09 1255.55 1540.55 Q1257.38 1536.98 1257.38 1529.87 Q1257.38 1522.75 1255.55 1519.2 Q1253.74 1515.64 1250.11 1515.64 M1250.11 1511.93 Q1255.92 1511.93 1258.97 1516.54 Q1262.05 1521.12 1262.05 1529.87 Q1262.05 1538.6 1258.97 1543.21 Q1255.92 1547.79 1250.11 1547.79 Q1244.3 1547.79 1241.22 1543.21 Q1238.16 1538.6 1238.16 1529.87 Q1238.16 1521.12 1241.22 1516.54 Q1244.3 1511.93 1250.11 1511.93 Z\" fill=\"#000000\" fill-rule=\"evenodd\" fill-opacity=\"1\" /><path clip-path=\"url(#clip520)\" d=\"M 0 0 M1739.67 1512.56 L1761.89 1512.56 L1761.89 1514.55 L1749.35 1547.12 L1744.46 1547.12 L1756.27 1516.5 L1739.67 1516.5 L1739.67 1512.56 Z\" fill=\"#000000\" fill-rule=\"evenodd\" fill-opacity=\"1\" /><path clip-path=\"url(#clip520)\" d=\"M 0 0 M1767.01 1512.56 L1785.37 1512.56 L1785.37 1516.5 L1771.29 1516.5 L1771.29 1524.97 Q1772.31 1524.62 1773.33 1524.46 Q1774.35 1524.27 1775.37 1524.27 Q1781.15 1524.27 1784.53 1527.44 Q1787.91 1530.62 1787.91 1536.03 Q1787.91 1541.61 1784.44 1544.71 Q1780.97 1547.79 1774.65 1547.79 Q1772.47 1547.79 1770.2 1547.42 Q1767.96 1547.05 1765.55 1546.31 L1765.55 1541.61 Q1767.63 1542.74 1769.86 1543.3 Q1772.08 1543.86 1774.56 1543.86 Q1778.56 1543.86 1780.9 1541.75 Q1783.24 1539.64 1783.24 1536.03 Q1783.24 1532.42 1780.9 1530.31 Q1778.56 1528.21 1774.56 1528.21 Q1772.68 1528.21 1770.81 1528.62 Q1768.95 1529.04 1767.01 1529.92 L1767.01 1512.56 Z\" fill=\"#000000\" fill-rule=\"evenodd\" fill-opacity=\"1\" /><path clip-path=\"url(#clip520)\" d=\"M 0 0 M2253.58 1543.18 L2261.22 1543.18 L2261.22 1516.82 L2252.91 1518.49 L2252.91 1514.23 L2261.18 1512.56 L2265.85 1512.56 L2265.85 1543.18 L2273.49 1543.18 L2273.49 1547.12 L2253.58 1547.12 L2253.58 1543.18 Z\" fill=\"#000000\" fill-rule=\"evenodd\" fill-opacity=\"1\" /><path clip-path=\"url(#clip520)\" d=\"M 0 0 M2288.56 1515.64 Q2284.95 1515.64 2283.12 1519.2 Q2281.32 1522.75 2281.32 1529.87 Q2281.32 1536.98 2283.12 1540.55 Q2284.95 1544.09 2288.56 1544.09 Q2292.2 1544.09 2294 1540.55 Q2295.83 1536.98 2295.83 1529.87 Q2295.83 1522.75 2294 1519.2 Q2292.2 1515.64 2288.56 1515.64 M2288.56 1511.93 Q2294.37 1511.93 2297.43 1516.54 Q2300.51 1521.12 2300.51 1529.87 Q2300.51 1538.6 2297.43 1543.21 Q2294.37 1547.79 2288.56 1547.79 Q2282.75 1547.79 2279.67 1543.21 Q2276.62 1538.6 2276.62 1529.87 Q2276.62 1521.12 2279.67 1516.54 Q2282.75 1511.93 2288.56 1511.93 Z\" fill=\"#000000\" fill-rule=\"evenodd\" fill-opacity=\"1\" /><path clip-path=\"url(#clip520)\" d=\"M 0 0 M2315.58 1515.64 Q2311.96 1515.64 2310.14 1519.2 Q2308.33 1522.75 2308.33 1529.87 Q2308.33 1536.98 2310.14 1540.55 Q2311.96 1544.09 2315.58 1544.09 Q2319.21 1544.09 2321.02 1540.55 Q2322.84 1536.98 2322.84 1529.87 Q2322.84 1522.75 2321.02 1519.2 Q2319.21 1515.64 2315.58 1515.64 M2315.58 1511.93 Q2321.39 1511.93 2324.44 1516.54 Q2327.52 1521.12 2327.52 1529.87 Q2327.52 1538.6 2324.44 1543.21 Q2321.39 1547.79 2315.58 1547.79 Q2309.77 1547.79 2306.69 1543.21 Q2303.63 1538.6 2303.63 1529.87 Q2303.63 1521.12 2306.69 1516.54 Q2309.77 1511.93 2315.58 1511.93 Z\" fill=\"#000000\" fill-rule=\"evenodd\" fill-opacity=\"1\" /><polyline clip-path=\"url(#clip522)\" style=\"stroke:#000000; stroke-width:2; stroke-opacity:0.1; fill:none\" points=\"\n",
       "  143.033,1445.72 2352.76,1445.72 \n",
       "  \"/>\n",
       "<polyline clip-path=\"url(#clip522)\" style=\"stroke:#000000; stroke-width:2; stroke-opacity:0.1; fill:none\" points=\"\n",
       "  143.033,1219.43 2352.76,1219.43 \n",
       "  \"/>\n",
       "<polyline clip-path=\"url(#clip522)\" style=\"stroke:#000000; stroke-width:2; stroke-opacity:0.1; fill:none\" points=\"\n",
       "  143.033,993.136 2352.76,993.136 \n",
       "  \"/>\n",
       "<polyline clip-path=\"url(#clip522)\" style=\"stroke:#000000; stroke-width:2; stroke-opacity:0.1; fill:none\" points=\"\n",
       "  143.033,766.846 2352.76,766.846 \n",
       "  \"/>\n",
       "<polyline clip-path=\"url(#clip522)\" style=\"stroke:#000000; stroke-width:2; stroke-opacity:0.1; fill:none\" points=\"\n",
       "  143.033,540.556 2352.76,540.556 \n",
       "  \"/>\n",
       "<polyline clip-path=\"url(#clip522)\" style=\"stroke:#000000; stroke-width:2; stroke-opacity:0.1; fill:none\" points=\"\n",
       "  143.033,314.266 2352.76,314.266 \n",
       "  \"/>\n",
       "<polyline clip-path=\"url(#clip522)\" style=\"stroke:#000000; stroke-width:2; stroke-opacity:0.1; fill:none\" points=\"\n",
       "  143.033,87.9763 2352.76,87.9763 \n",
       "  \"/>\n",
       "<polyline clip-path=\"url(#clip520)\" style=\"stroke:#000000; stroke-width:4; stroke-opacity:1; fill:none\" points=\"\n",
       "  143.033,1486.45 143.033,47.2441 \n",
       "  \"/>\n",
       "<polyline clip-path=\"url(#clip520)\" style=\"stroke:#000000; stroke-width:4; stroke-opacity:1; fill:none\" points=\"\n",
       "  143.033,1445.72 169.55,1445.72 \n",
       "  \"/>\n",
       "<polyline clip-path=\"url(#clip520)\" style=\"stroke:#000000; stroke-width:4; stroke-opacity:1; fill:none\" points=\"\n",
       "  143.033,1219.43 169.55,1219.43 \n",
       "  \"/>\n",
       "<polyline clip-path=\"url(#clip520)\" style=\"stroke:#000000; stroke-width:4; stroke-opacity:1; fill:none\" points=\"\n",
       "  143.033,993.136 169.55,993.136 \n",
       "  \"/>\n",
       "<polyline clip-path=\"url(#clip520)\" style=\"stroke:#000000; stroke-width:4; stroke-opacity:1; fill:none\" points=\"\n",
       "  143.033,766.846 169.55,766.846 \n",
       "  \"/>\n",
       "<polyline clip-path=\"url(#clip520)\" style=\"stroke:#000000; stroke-width:4; stroke-opacity:1; fill:none\" points=\"\n",
       "  143.033,540.556 169.55,540.556 \n",
       "  \"/>\n",
       "<polyline clip-path=\"url(#clip520)\" style=\"stroke:#000000; stroke-width:4; stroke-opacity:1; fill:none\" points=\"\n",
       "  143.033,314.266 169.55,314.266 \n",
       "  \"/>\n",
       "<polyline clip-path=\"url(#clip520)\" style=\"stroke:#000000; stroke-width:4; stroke-opacity:1; fill:none\" points=\"\n",
       "  143.033,87.9763 169.55,87.9763 \n",
       "  \"/>\n",
       "<path clip-path=\"url(#clip520)\" d=\"M 0 0 M50.9921 1446.17 L80.6679 1446.17 L80.6679 1450.1 L50.9921 1450.1 L50.9921 1446.17 Z\" fill=\"#000000\" fill-rule=\"evenodd\" fill-opacity=\"1\" /><path clip-path=\"url(#clip520)\" d=\"M 0 0 M99.9039 1444.36 Q103.26 1445.08 105.135 1447.35 Q107.033 1449.62 107.033 1452.95 Q107.033 1458.07 103.515 1460.87 Q99.9965 1463.67 93.515 1463.67 Q91.3391 1463.67 89.0243 1463.23 Q86.7327 1462.81 84.279 1461.95 L84.279 1457.44 Q86.2234 1458.57 88.5382 1459.15 Q90.853 1459.73 93.3762 1459.73 Q97.7743 1459.73 100.066 1458 Q102.381 1456.26 102.381 1452.95 Q102.381 1449.89 100.228 1448.18 Q98.0984 1446.44 94.2789 1446.44 L90.2512 1446.44 L90.2512 1442.6 L94.4641 1442.6 Q97.9132 1442.6 99.7419 1441.24 Q101.571 1439.85 101.571 1437.26 Q101.571 1434.59 99.6724 1433.18 Q97.7974 1431.75 94.2789 1431.75 Q92.3576 1431.75 90.1586 1432.16 Q87.9595 1432.58 85.3206 1433.46 L85.3206 1429.29 Q87.9827 1428.55 90.2975 1428.18 Q92.6354 1427.81 94.6956 1427.81 Q100.02 1427.81 103.121 1430.24 Q106.223 1432.65 106.223 1436.77 Q106.223 1439.64 104.58 1441.63 Q102.936 1443.6 99.9039 1444.36 Z\" fill=\"#000000\" fill-rule=\"evenodd\" fill-opacity=\"1\" /><path clip-path=\"url(#clip520)\" d=\"M 0 0 M51.9412 1219.88 L81.617 1219.88 L81.617 1223.81 L51.9412 1223.81 L51.9412 1219.88 Z\" fill=\"#000000\" fill-rule=\"evenodd\" fill-opacity=\"1\" /><path clip-path=\"url(#clip520)\" d=\"M 0 0 M90.7141 1232.77 L107.033 1232.77 L107.033 1236.71 L85.0892 1236.71 L85.0892 1232.77 Q87.7512 1230.02 92.3345 1225.39 Q96.941 1220.73 98.1215 1219.39 Q100.367 1216.87 101.246 1215.13 Q102.149 1213.37 102.149 1211.68 Q102.149 1208.93 100.205 1207.19 Q98.2835 1205.46 95.1817 1205.46 Q92.9826 1205.46 90.529 1206.22 Q88.0984 1206.98 85.3206 1208.53 L85.3206 1203.81 Q88.1447 1202.68 90.5984 1202.1 Q93.0521 1201.52 95.0891 1201.52 Q100.459 1201.52 103.654 1204.21 Q106.848 1206.89 106.848 1211.38 Q106.848 1213.51 106.038 1215.43 Q105.251 1217.33 103.145 1219.92 Q102.566 1220.59 99.4641 1223.81 Q96.3623 1227.01 90.7141 1232.77 Z\" fill=\"#000000\" fill-rule=\"evenodd\" fill-opacity=\"1\" /><path clip-path=\"url(#clip520)\" d=\"M 0 0 M51.5708 993.587 L81.2466 993.587 L81.2466 997.522 L51.5708 997.522 L51.5708 993.587 Z\" fill=\"#000000\" fill-rule=\"evenodd\" fill-opacity=\"1\" /><path clip-path=\"url(#clip520)\" d=\"M 0 0 M87.1262 1006.48 L94.765 1006.48 L94.765 980.115 L86.4549 981.782 L86.4549 977.523 L94.7187 975.856 L99.3946 975.856 L99.3946 1006.48 L107.033 1006.48 L107.033 1010.42 L87.1262 1010.42 L87.1262 1006.48 Z\" fill=\"#000000\" fill-rule=\"evenodd\" fill-opacity=\"1\" /><path clip-path=\"url(#clip520)\" d=\"M 0 0 M95.0891 752.645 Q91.478 752.645 89.6493 756.209 Q87.8438 759.751 87.8438 766.881 Q87.8438 773.987 89.6493 777.552 Q91.478 781.094 95.0891 781.094 Q98.7234 781.094 100.529 777.552 Q102.358 773.987 102.358 766.881 Q102.358 759.751 100.529 756.209 Q98.7234 752.645 95.0891 752.645 M95.0891 748.941 Q100.899 748.941 103.955 753.547 Q107.033 758.131 107.033 766.881 Q107.033 775.608 103.955 780.214 Q100.899 784.797 95.0891 784.797 Q89.279 784.797 86.2003 780.214 Q83.1447 775.608 83.1447 766.881 Q83.1447 758.131 86.2003 753.547 Q89.279 748.941 95.0891 748.941 Z\" fill=\"#000000\" fill-rule=\"evenodd\" fill-opacity=\"1\" /><path clip-path=\"url(#clip520)\" d=\"M 0 0 M87.1262 553.901 L94.765 553.901 L94.765 527.535 L86.4549 529.202 L86.4549 524.943 L94.7187 523.276 L99.3946 523.276 L99.3946 553.901 L107.033 553.901 L107.033 557.836 L87.1262 557.836 L87.1262 553.901 Z\" fill=\"#000000\" fill-rule=\"evenodd\" fill-opacity=\"1\" /><path clip-path=\"url(#clip520)\" d=\"M 0 0 M90.7141 327.611 L107.033 327.611 L107.033 331.546 L85.0892 331.546 L85.0892 327.611 Q87.7512 324.856 92.3345 320.227 Q96.941 315.574 98.1215 314.231 Q100.367 311.708 101.246 309.972 Q102.149 308.213 102.149 306.523 Q102.149 303.769 100.205 302.032 Q98.2835 300.296 95.1817 300.296 Q92.9826 300.296 90.529 301.06 Q88.0984 301.824 85.3206 303.375 L85.3206 298.653 Q88.1447 297.519 90.5984 296.94 Q93.0521 296.361 95.0891 296.361 Q100.459 296.361 103.654 299.046 Q106.848 301.732 106.848 306.222 Q106.848 308.352 106.038 310.273 Q105.251 312.171 103.145 314.764 Q102.566 315.435 99.4641 318.653 Q96.3623 321.847 90.7141 327.611 Z\" fill=\"#000000\" fill-rule=\"evenodd\" fill-opacity=\"1\" /><path clip-path=\"url(#clip520)\" d=\"M 0 0 M99.9039 86.6221 Q103.26 87.3397 105.135 89.6082 Q107.033 91.8767 107.033 95.21 Q107.033 100.326 103.515 103.127 Q99.9965 105.928 93.515 105.928 Q91.3391 105.928 89.0243 105.488 Q86.7327 105.071 84.279 104.215 L84.279 99.7008 Q86.2234 100.835 88.5382 101.414 Q90.853 101.992 93.3762 101.992 Q97.7743 101.992 100.066 100.256 Q102.381 98.5202 102.381 95.21 Q102.381 92.1545 100.228 90.4415 Q98.0984 88.7054 94.2789 88.7054 L90.2512 88.7054 L90.2512 84.8629 L94.4641 84.8629 Q97.9132 84.8629 99.7419 83.4971 Q101.571 82.1083 101.571 79.5157 Q101.571 76.8537 99.6724 75.4416 Q97.7974 74.0064 94.2789 74.0064 Q92.3576 74.0064 90.1586 74.4231 Q87.9595 74.8398 85.3206 75.7194 L85.3206 71.5528 Q87.9827 70.812 90.2975 70.4416 Q92.6354 70.0713 94.6956 70.0713 Q100.02 70.0713 103.121 72.5018 Q106.223 74.9092 106.223 79.0296 Q106.223 81.8999 104.58 83.8907 Q102.936 85.8582 99.9039 86.6221 Z\" fill=\"#000000\" fill-rule=\"evenodd\" fill-opacity=\"1\" /><polyline clip-path=\"url(#clip522)\" style=\"stroke:#009af9; stroke-width:4; stroke-opacity:1; fill:none\" points=\"\n",
       "  205.573,536.612 226.63,592.32 247.687,627.841 268.744,648.132 289.801,657.679 310.858,660.515 331.915,660.237 352.972,660.015 374.029,662.607 395.086,670.369 \n",
       "  416.143,685.263 437.2,708.849 458.257,742.262 479.314,786.154 500.371,840.594 521.428,904.914 542.485,977.492 563.542,1055.48 584.599,1134.55 605.656,1208.67 \n",
       "  626.713,1270.18 647.77,1310.21 668.827,1319.55 689.884,1289.7 710.941,1213.67 731.998,1085.63 753.055,899.141 774.112,643.997 795.169,302.651 816.226,87.9763 \n",
       "  837.283,87.9763 858.34,87.9763 879.397,87.9763 900.454,87.9763 921.511,87.9763 942.568,87.9763 963.625,87.9763 984.682,87.9763 1005.74,87.9763 1026.8,87.9763 \n",
       "  1047.85,776.54 1068.91,1445.72 1089.97,1445.72 1111.02,1445.72 1132.08,1445.72 1153.14,1445.72 1174.2,1445.72 1195.25,1445.72 1216.31,1445.72 1237.37,1445.72 \n",
       "  1258.42,1445.72 1279.48,1445.72 1300.54,1445.72 1321.59,1445.72 1342.65,1445.72 1363.71,1004.95 1384.77,385.071 1405.82,87.9763 1426.88,87.9763 1447.94,87.9763 \n",
       "  1468.99,87.9763 1490.05,87.9763 1511.11,87.9763 1532.16,87.9763 1553.22,87.9763 1574.28,87.9763 1595.34,87.9763 1616.39,87.9763 1637.45,1445.72 1658.51,1445.72 \n",
       "  1679.56,1445.72 1700.62,1445.72 1721.68,176.956 1742.73,87.9763 1763.79,87.9763 1784.85,1445.72 1805.91,1445.72 1826.96,1445.72 1848.02,1445.72 1869.08,1445.72 \n",
       "  1890.13,1445.72 1911.19,1445.72 1932.25,1445.72 1953.3,1445.72 1974.36,1445.72 1995.42,87.9763 2016.48,87.9763 2037.53,87.9763 2058.59,87.9763 2079.65,87.9763 \n",
       "  2100.7,87.9763 2121.76,87.9763 2142.82,87.9763 2163.87,87.9763 2184.93,87.9763 2205.99,514.207 2227.05,1263.47 2248.1,1445.72 2269.16,1445.72 2290.22,1445.72 \n",
       "  \n",
       "  \"/>\n",
       "<path clip-path=\"url(#clip520)\" d=\"\n",
       "M1982.56 216.178 L2279.1 216.178 L2279.1 95.2176 L1982.56 95.2176  Z\n",
       "  \" fill=\"#ffffff\" fill-rule=\"evenodd\" fill-opacity=\"1\"/>\n",
       "<polyline clip-path=\"url(#clip520)\" style=\"stroke:#000000; stroke-width:4; stroke-opacity:1; fill:none\" points=\"\n",
       "  1982.56,216.178 2279.1,216.178 2279.1,95.2176 1982.56,95.2176 1982.56,216.178 \n",
       "  \"/>\n",
       "<polyline clip-path=\"url(#clip520)\" style=\"stroke:#009af9; stroke-width:4; stroke-opacity:1; fill:none\" points=\"\n",
       "  2007.11,155.698 2154.42,155.698 \n",
       "  \"/>\n",
       "<path clip-path=\"url(#clip520)\" d=\"M 0 0 M2192.82 175.385 Q2191.01 180.015 2189.3 181.427 Q2187.59 182.839 2184.72 182.839 L2181.31 182.839 L2181.31 179.274 L2183.81 179.274 Q2185.57 179.274 2186.54 178.44 Q2187.52 177.607 2188.7 174.505 L2189.46 172.561 L2178.98 147.052 L2183.49 147.052 L2191.59 167.329 L2199.69 147.052 L2204.21 147.052 L2192.82 175.385 Z\" fill=\"#000000\" fill-rule=\"evenodd\" fill-opacity=\"1\" /><path clip-path=\"url(#clip520)\" d=\"M 0 0 M2210.09 169.042 L2217.73 169.042 L2217.73 142.677 L2209.41 144.343 L2209.41 140.084 L2217.68 138.418 L2222.35 138.418 L2222.35 169.042 L2229.99 169.042 L2229.99 172.978 L2210.09 172.978 L2210.09 169.042 Z\" fill=\"#000000\" fill-rule=\"evenodd\" fill-opacity=\"1\" /></svg>\n"
      ]
     },
     "execution_count": 298,
     "metadata": {},
     "output_type": "execute_result"
    }
   ],
   "source": [
    "plot(U)"
   ]
  },
  {
   "cell_type": "code",
   "execution_count": null,
   "metadata": {},
   "outputs": [],
   "source": []
  }
 ],
 "metadata": {
  "kernelspec": {
   "display_name": "Julia 1.5.3",
   "language": "julia",
   "name": "julia-1.5"
  },
  "language_info": {
   "file_extension": ".jl",
   "mimetype": "application/julia",
   "name": "julia",
   "version": "1.5.3"
  }
 },
 "nbformat": 4,
 "nbformat_minor": 2
}
