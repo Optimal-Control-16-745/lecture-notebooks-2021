{
 "cells": [
  {
   "cell_type": "code",
   "execution_count": 136,
   "metadata": {},
   "outputs": [
    {
     "name": "stderr",
     "output_type": "stream",
     "text": [
      "\u001b[32m\u001b[1m Activating\u001b[22m\u001b[39m environment at `~/GitHub/lecture-notebooks/Lecture 15/Project.toml`\n"
     ]
    }
   ],
   "source": [
    "import Pkg; Pkg.activate(@__DIR__); Pkg.instantiate()\n",
    "using LinearAlgebra\n",
    "using ForwardDiff\n",
    "using BlockDiagonals\n",
    "using ControlSystems"
   ]
  },
  {
   "cell_type": "code",
   "execution_count": 137,
   "metadata": {},
   "outputs": [
    {
     "data": {
      "text/plain": [
       "qtorp (generic function with 1 method)"
      ]
     },
     "execution_count": 137,
     "metadata": {},
     "output_type": "execute_result"
    }
   ],
   "source": [
    "#Quaternion stuff\n",
    "function hat(v)\n",
    "    return [0 -v[3] v[2];\n",
    "            v[3] 0 -v[1];\n",
    "            -v[2] v[1] 0]\n",
    "end\n",
    "function L(q)\n",
    "    s = q[1]\n",
    "    v = q[2:4]\n",
    "    L = [s    -v';\n",
    "         v  s*I+hat(v)]\n",
    "    return L\n",
    "end\n",
    "T = Diagonal([1; -ones(3)])\n",
    "H = [zeros(1,3); I]\n",
    "function qtoQ(q)\n",
    "    return H'*T*L(q)*T*L(q)*H\n",
    "end\n",
    "function G(q)\n",
    "    G = L(q)*H\n",
    "end\n",
    "function rptoq(ϕ)\n",
    "    (1/sqrt(1+ϕ'*ϕ))*[1; ϕ]\n",
    "end\n",
    "function qtorp(q)\n",
    "    q[2:4]/q[1]\n",
    "end"
   ]
  },
  {
   "cell_type": "code",
   "execution_count": 138,
   "metadata": {},
   "outputs": [],
   "source": [
    "#Quadrotor parameters\n",
    "m = 0.5\n",
    "ℓ = 0.1750\n",
    "J = Diagonal([0.0023, 0.0023, 0.004])\n",
    "g = 9.81\n",
    "kt=1.0\n",
    "km=0.0245\n",
    "\n",
    "h = 0.05 #20 Hz\n",
    "\n",
    "Nx = 13     # number of states (quaternion)\n",
    "Nx̃ = 12     # number of states (linearized)\n",
    "Nu = 4     # number of controls\n",
    "Tfinal = 5.0 # final time\n",
    "Nt = Int(Tfinal/h)+1    # number of time steps\n",
    "thist = Array(range(0,h*(Nt-1), step=h));"
   ]
  },
  {
   "cell_type": "code",
   "execution_count": 139,
   "metadata": {},
   "outputs": [
    {
     "data": {
      "text/plain": [
       "E (generic function with 1 method)"
      ]
     },
     "execution_count": 139,
     "metadata": {},
     "output_type": "execute_result"
    }
   ],
   "source": [
    "function E(q)\n",
    "    E = BlockDiagonal([1.0*I(3), G(q), 1.0*I(6)])\n",
    "end"
   ]
  },
  {
   "cell_type": "code",
   "execution_count": 140,
   "metadata": {},
   "outputs": [
    {
     "data": {
      "text/plain": [
       "quad_dynamics (generic function with 1 method)"
      ]
     },
     "execution_count": 140,
     "metadata": {},
     "output_type": "execute_result"
    }
   ],
   "source": [
    "function quad_dynamics(x,u)\n",
    "    r = x[1:3]\n",
    "    q = x[4:7]\n",
    "    v = x[8:10]\n",
    "    ω = x[11:13]\n",
    "    Q = qtoQ(q)\n",
    "    \n",
    "    ṙ = Q*v\n",
    "    q̇ = 0.5*L(q)*H*ω\n",
    "    \n",
    "    v̇ = Q'*[0; 0; -g] + (1/m)*[zeros(2,4); kt*ones(1,4)]*u - hat(ω)*v\n",
    "    \n",
    "    ω̇ = J\\(-hat(ω)*J*ω + [0 ℓ*kt 0 -ℓ*kt; -ℓ*kt 0 ℓ*kt 0; km -km km -km]*u)\n",
    "    \n",
    "    return [ṙ; q̇; v̇; ω̇]\n",
    "end"
   ]
  },
  {
   "cell_type": "code",
   "execution_count": 143,
   "metadata": {},
   "outputs": [
    {
     "data": {
      "text/plain": [
       "quad_dynamics_rk4 (generic function with 1 method)"
      ]
     },
     "execution_count": 143,
     "metadata": {},
     "output_type": "execute_result"
    }
   ],
   "source": [
    "function quad_dynamics_rk4(x,u)\n",
    "    #RK4 integration with zero-order hold on u\n",
    "    f1 = quad_dynamics(x, u)\n",
    "    f2 = quad_dynamics(x + 0.5*h*f1, u)\n",
    "    f3 = quad_dynamics(x + 0.5*h*f2, u)\n",
    "    f4 = quad_dynamics(x + h*f3, u)\n",
    "    xn = x + (h/6.0)*(f1 + 2*f2 + 2*f3 + f4)\n",
    "    xn[4:7] .= xn[4:7]/norm(xn[4:7]) #re-normalize quaternion\n",
    "    return xn\n",
    "end"
   ]
  },
  {
   "cell_type": "code",
   "execution_count": 144,
   "metadata": {},
   "outputs": [],
   "source": [
    "#Initial Conditions\n",
    "uhover = (m*g/4)*ones(4)\n",
    "r0 = [0.0; 0; 1.0]\n",
    "q0 = [1.0; 0; 0; 0]\n",
    "v0 = zeros(3)\n",
    "ω0 = zeros(3)\n",
    "x0 = [r0; q0; v0; ω0];"
   ]
  },
  {
   "cell_type": "code",
   "execution_count": 145,
   "metadata": {},
   "outputs": [],
   "source": [
    "#Linearize dynamics about hover\n",
    "A = ForwardDiff.jacobian(x->quad_dynamics_rk4(x,uhover),x0)\n",
    "B = ForwardDiff.jacobian(u->quad_dynamics_rk4(x0,u),uhover);"
   ]
  },
  {
   "cell_type": "code",
   "execution_count": 146,
   "metadata": {},
   "outputs": [
    {
     "data": {
      "text/plain": [
       "12"
      ]
     },
     "execution_count": 146,
     "metadata": {},
     "output_type": "execute_result"
    }
   ],
   "source": [
    "rank(A)#The naive A matrix will always be rank deficient due to the unit-norm constraint on the quaternion"
   ]
  },
  {
   "cell_type": "code",
   "execution_count": 147,
   "metadata": {},
   "outputs": [],
   "source": [
    "#Controlability Matrix\n",
    "C = B\n",
    "for k = 1:(Nx-1)\n",
    "    C = [C A*C[:,end-(Nu-1):end]]\n",
    "end"
   ]
  },
  {
   "cell_type": "code",
   "execution_count": 149,
   "metadata": {},
   "outputs": [
    {
     "data": {
      "text/plain": [
       "12"
      ]
     },
     "execution_count": 149,
     "metadata": {},
     "output_type": "execute_result"
    }
   ],
   "source": [
    "rank(C) #The naive linearized system will always be uncontrollable"
   ]
  },
  {
   "cell_type": "code",
   "execution_count": 150,
   "metadata": {},
   "outputs": [],
   "source": [
    "#Reduced system\n",
    "Ã = Array(E(q0)'*A*E(q0))\n",
    "B̃ = Array(E(q0)'*B);"
   ]
  },
  {
   "cell_type": "code",
   "execution_count": 151,
   "metadata": {},
   "outputs": [],
   "source": [
    "#Controlability Matrix\n",
    "C = B̃\n",
    "for k = 1:(Nx-1)\n",
    "    C = [C Ã*C[:,end-(Nu-1):end]]\n",
    "end"
   ]
  },
  {
   "cell_type": "code",
   "execution_count": 152,
   "metadata": {},
   "outputs": [
    {
     "data": {
      "text/plain": [
       "12"
      ]
     },
     "execution_count": 152,
     "metadata": {},
     "output_type": "execute_result"
    }
   ],
   "source": [
    "rank(C) #Reduced system is controllable"
   ]
  },
  {
   "cell_type": "code",
   "execution_count": 153,
   "metadata": {},
   "outputs": [],
   "source": [
    "# Cost weights\n",
    "Q = Array(I(Nx̃));\n",
    "R = Array(.1*I(Nu));"
   ]
  },
  {
   "cell_type": "code",
   "execution_count": 154,
   "metadata": {},
   "outputs": [
    {
     "data": {
      "text/plain": [
       "4×12 Array{Float64,2}:\n",
       " -0.114603     -5.06467e-13  1.1308  -1.4811e-11   …  -0.147816      0.681679\n",
       "  3.90989e-14  -0.114603     1.1308   1.39421         -8.5752e-16   -0.681679\n",
       "  0.114603     -5.7785e-13   1.1308  -1.35734e-11      0.147816      0.681679\n",
       "  6.0461e-14    0.114603     1.1308  -1.39421          5.17243e-15  -0.681679"
      ]
     },
     "execution_count": 154,
     "metadata": {},
     "output_type": "execute_result"
    }
   ],
   "source": [
    "#LQR Controller\n",
    "K = dlqr(Ã,B̃,Q,R)"
   ]
  },
  {
   "cell_type": "code",
   "execution_count": 155,
   "metadata": {},
   "outputs": [
    {
     "data": {
      "text/plain": [
       "controller (generic function with 1 method)"
      ]
     },
     "execution_count": 155,
     "metadata": {},
     "output_type": "execute_result"
    }
   ],
   "source": [
    "#Feedback controller\n",
    "function controller(x)\n",
    "    \n",
    "    q0 = x0[4:7]\n",
    "    q = x[4:7]\n",
    "    ϕ = qtorp(L(q0)'*q)\n",
    "    \n",
    "    Δx̃ = [x[1:3]-r0; ϕ; x[8:10]-v0; x[11:13]-ω0]\n",
    "    \n",
    "    u = uhover - K*Δx̃\n",
    "end"
   ]
  },
  {
   "cell_type": "code",
   "execution_count": 174,
   "metadata": {},
   "outputs": [],
   "source": [
    "#Simulation\n",
    "uhist = zeros(Nu,Nt)\n",
    "xhist = zeros(Nx,Nt)\n",
    "xhist[:,1] = [r0+randn(3); L(q0)*rptoq(0.7*randn(3)); v0; ω0]\n",
    "for k = 1:(Nt-1)\n",
    "    uhist[:,k] = controller(xhist[:,k])\n",
    "    xhist[:,k+1] = quad_dynamics_rk4(xhist[:,k],uhist[:,k])\n",
    "end"
   ]
  },
  {
   "cell_type": "code",
   "execution_count": 175,
   "metadata": {},
   "outputs": [
    {
     "name": "stderr",
     "output_type": "stream",
     "text": [
      "┌ Info: MeshCat server started. You can open the visualizer by visiting the following URL in your browser:\n",
      "│ http://127.0.0.1:8718\n",
      "└ @ MeshCat /Users/zac/.julia/packages/MeshCat/GlCMx/src/visualizer.jl:73\n"
     ]
    },
    {
     "data": {
      "text/html": [
       "    <div style=\"height: 500px; width: 100%; overflow-x: auto; overflow-y: hidden; resize: both\">\n",
       "    <iframe src=\"http://127.0.0.1:8718\" style=\"width: 100%; height: 100%; border: none\"></iframe>\n",
       "    </div>\n"
      ],
      "text/plain": [
       "MeshCat.DisplayedVisualizer(MeshCat.CoreVisualizer(MeshCat.SceneTrees.SceneNode(nothing, nothing, Dict{String,Array{UInt8,1}}(), nothing, Dict{String,MeshCat.SceneTrees.SceneNode}()), Set{Any}(), ip\"127.0.0.1\", 8718))"
      ]
     },
     "execution_count": 175,
     "metadata": {},
     "output_type": "execute_result"
    }
   ],
   "source": [
    "#Set up visualization\n",
    "using TrajOptPlots\n",
    "using MeshCat\n",
    "using StaticArrays\n",
    "using RobotZoo:Quadrotor\n",
    "\n",
    "vis = Visualizer()\n",
    "render(vis)"
   ]
  },
  {
   "cell_type": "code",
   "execution_count": 178,
   "metadata": {},
   "outputs": [
    {
     "data": {
      "text/plain": [
       "MeshCat Visualizer with path /meshcat/robot/geom at http://127.0.0.1:8718"
      ]
     },
     "execution_count": 178,
     "metadata": {},
     "output_type": "execute_result"
    }
   ],
   "source": [
    "model = Quadrotor()\n",
    "TrajOptPlots.set_mesh!(vis, model)"
   ]
  },
  {
   "cell_type": "code",
   "execution_count": 186,
   "metadata": {},
   "outputs": [],
   "source": [
    "X1 = [SVector{13}(x) for x in eachcol(xhist)];\n",
    "visualize!(vis, model, thist[end], X1)"
   ]
  },
  {
   "cell_type": "code",
   "execution_count": null,
   "metadata": {},
   "outputs": [],
   "source": []
  }
 ],
 "metadata": {
  "kernelspec": {
   "display_name": "Julia 1.5.3",
   "language": "julia",
   "name": "julia-1.5"
  },
  "language_info": {
   "file_extension": ".jl",
   "mimetype": "application/julia",
   "name": "julia",
   "version": "1.5.4"
  }
 },
 "nbformat": 4,
 "nbformat_minor": 4
}
